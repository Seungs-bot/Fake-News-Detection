{
 "cells": [
  {
   "cell_type": "markdown",
   "id": "7e1cefea",
   "metadata": {},
   "source": [
    "### Evaluation : Assessing the Advantages and Limitations of the Prediction Model"
   ]
  },
  {
   "cell_type": "markdown",
   "id": "180a272b",
   "metadata": {},
   "source": [
    "Advantages:\n",
    "\n",
    "1) Our method of predicting fake news is not limited to 1 classification machine learning model. We take 4 of the models to find a consensus result, to make the prediction more accurate\n",
    "\n",
    "2) The prediction accuracy of our model is also relatively high, showing that our model can in fact be used to predict whether a news article is fake just by the title\n",
    "\n",
    "Limitations (Possible Improvements):\n",
    "\n",
    "1) Our model only considers composition of words in the title, and not phrases. In most cases, words itself do not have real meaning but must be put into context into a phrase or a sentence to give meaning\n",
    "\n",
    "2) Our dataset is also heavily skewed towards news title in the realm of politics, which may limit the representation compared to a dataset containing fake news from different areas"
   ]
  },
  {
   "cell_type": "markdown",
   "id": "9b2deaca",
   "metadata": {},
   "source": [
    "### Insights : Linking back to the problem statement"
   ]
  },
  {
   "cell_type": "markdown",
   "id": "b7b8c26a",
   "metadata": {},
   "source": [
    "- The model works, with a high 83.5% prediction accuracy. This shows that using Natural Language Processing, we can pick out the strong verbosity of the language used in the fake news titles to detect whether the news is real or fake\n",
    "\n",
    "- This model could be used as a detection system for the users surfing the web, alerting the user about possible exposure to fake news \n",
    "\n",
    "However\n",
    "\n",
    "- The title of the news may be fake or real but the content of the news could be otherwise, leading to possible false positive and false negative rates\n",
    "\n",
    "- The onus is on the user to ultimately corroborate and do his/her due diligence to cross reference to other sources to investigate on the true nature of the news"
   ]
  }
 ],
 "metadata": {
  "kernelspec": {
   "display_name": "Python 3 (ipykernel)",
   "language": "python",
   "name": "python3"
  },
  "language_info": {
   "codemirror_mode": {
    "name": "ipython",
    "version": 3
   },
   "file_extension": ".py",
   "mimetype": "text/x-python",
   "name": "python",
   "nbconvert_exporter": "python",
   "pygments_lexer": "ipython3",
   "version": "3.9.7"
  }
 },
 "nbformat": 4,
 "nbformat_minor": 5
}
