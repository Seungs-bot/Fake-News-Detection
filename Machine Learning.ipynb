{
 "cells": [
  {
   "cell_type": "markdown",
   "id": "53aeeae3",
   "metadata": {},
   "source": [
    "### Importing the necessary modules"
   ]
  },
  {
   "cell_type": "code",
   "execution_count": 2,
   "id": "c4a771f2",
   "metadata": {},
   "outputs": [],
   "source": [
    "import pandas as pd\n",
    "import numpy as np\n",
    "import seaborn as sb\n",
    "from nltk.corpus import stopwords\n",
    "from nltk.stem.porter import PorterStemmer\n",
    "import re\n",
    "import nltk\n",
    "from sklearn.feature_extraction.text import CountVectorizer\n",
    "from sklearn.feature_extraction.text import HashingVectorizer\n",
    "import matplotlib.pyplot as plt\n",
    "import seaborn as sns\n",
    "from sklearn import metrics\n",
    "from sklearn.model_selection import train_test_split\n",
    "from sklearn.metrics import accuracy_score\n",
    "from sklearn.feature_extraction.text import TfidfVectorizer\n",
    "from sklearn.feature_extraction.text import TfidfTransformer"
   ]
  },
  {
   "cell_type": "markdown",
   "id": "b42f054d",
   "metadata": {},
   "source": [
    "### Printing the Data"
   ]
  },
  {
   "cell_type": "code",
   "execution_count": 2,
   "id": "954e2660",
   "metadata": {},
   "outputs": [
    {
     "data": {
      "text/html": [
       "<div>\n",
       "<style scoped>\n",
       "    .dataframe tbody tr th:only-of-type {\n",
       "        vertical-align: middle;\n",
       "    }\n",
       "\n",
       "    .dataframe tbody tr th {\n",
       "        vertical-align: top;\n",
       "    }\n",
       "\n",
       "    .dataframe thead th {\n",
       "        text-align: right;\n",
       "    }\n",
       "</style>\n",
       "<table border=\"1\" class=\"dataframe\">\n",
       "  <thead>\n",
       "    <tr style=\"text-align: right;\">\n",
       "      <th></th>\n",
       "      <th>Unnamed: 0</th>\n",
       "      <th>title</th>\n",
       "      <th>text</th>\n",
       "      <th>label</th>\n",
       "    </tr>\n",
       "  </thead>\n",
       "  <tbody>\n",
       "    <tr>\n",
       "      <th>0</th>\n",
       "      <td>8476</td>\n",
       "      <td>You Can Smell Hillary’s Fear</td>\n",
       "      <td>Daniel Greenfield, a Shillman Journalism Fello...</td>\n",
       "      <td>FAKE</td>\n",
       "    </tr>\n",
       "    <tr>\n",
       "      <th>1</th>\n",
       "      <td>10294</td>\n",
       "      <td>Watch The Exact Moment Paul Ryan Committed Pol...</td>\n",
       "      <td>Google Pinterest Digg Linkedin Reddit Stumbleu...</td>\n",
       "      <td>FAKE</td>\n",
       "    </tr>\n",
       "    <tr>\n",
       "      <th>2</th>\n",
       "      <td>3608</td>\n",
       "      <td>Kerry to go to Paris in gesture of sympathy</td>\n",
       "      <td>U.S. Secretary of State John F. Kerry said Mon...</td>\n",
       "      <td>REAL</td>\n",
       "    </tr>\n",
       "    <tr>\n",
       "      <th>3</th>\n",
       "      <td>10142</td>\n",
       "      <td>Bernie supporters on Twitter erupt in anger ag...</td>\n",
       "      <td>— Kaydee King (@KaydeeKing) November 9, 2016 T...</td>\n",
       "      <td>FAKE</td>\n",
       "    </tr>\n",
       "    <tr>\n",
       "      <th>4</th>\n",
       "      <td>875</td>\n",
       "      <td>The Battle of New York: Why This Primary Matters</td>\n",
       "      <td>It's primary day in New York and front-runners...</td>\n",
       "      <td>REAL</td>\n",
       "    </tr>\n",
       "  </tbody>\n",
       "</table>\n",
       "</div>"
      ],
      "text/plain": [
       "   Unnamed: 0                                              title  \\\n",
       "0        8476                       You Can Smell Hillary’s Fear   \n",
       "1       10294  Watch The Exact Moment Paul Ryan Committed Pol...   \n",
       "2        3608        Kerry to go to Paris in gesture of sympathy   \n",
       "3       10142  Bernie supporters on Twitter erupt in anger ag...   \n",
       "4         875   The Battle of New York: Why This Primary Matters   \n",
       "\n",
       "                                                text label  \n",
       "0  Daniel Greenfield, a Shillman Journalism Fello...  FAKE  \n",
       "1  Google Pinterest Digg Linkedin Reddit Stumbleu...  FAKE  \n",
       "2  U.S. Secretary of State John F. Kerry said Mon...  REAL  \n",
       "3  — Kaydee King (@KaydeeKing) November 9, 2016 T...  FAKE  \n",
       "4  It's primary day in New York and front-runners...  REAL  "
      ]
     },
     "execution_count": 2,
     "metadata": {},
     "output_type": "execute_result"
    }
   ],
   "source": [
    "df = pd.read_csv(\"fake_or_real_news.csv\")\n",
    "df.head()"
   ]
  },
  {
   "cell_type": "markdown",
   "id": "3517ffc5",
   "metadata": {},
   "source": [
    "### Replacing string label to numercal as Fake = 0 and Real = 1"
   ]
  },
  {
   "cell_type": "code",
   "execution_count": 3,
   "id": "e1e11a27",
   "metadata": {},
   "outputs": [
    {
     "data": {
      "text/html": [
       "<div>\n",
       "<style scoped>\n",
       "    .dataframe tbody tr th:only-of-type {\n",
       "        vertical-align: middle;\n",
       "    }\n",
       "\n",
       "    .dataframe tbody tr th {\n",
       "        vertical-align: top;\n",
       "    }\n",
       "\n",
       "    .dataframe thead th {\n",
       "        text-align: right;\n",
       "    }\n",
       "</style>\n",
       "<table border=\"1\" class=\"dataframe\">\n",
       "  <thead>\n",
       "    <tr style=\"text-align: right;\">\n",
       "      <th></th>\n",
       "      <th>Unnamed: 0</th>\n",
       "      <th>title</th>\n",
       "      <th>text</th>\n",
       "      <th>label</th>\n",
       "    </tr>\n",
       "  </thead>\n",
       "  <tbody>\n",
       "    <tr>\n",
       "      <th>0</th>\n",
       "      <td>8476</td>\n",
       "      <td>You Can Smell Hillary’s Fear</td>\n",
       "      <td>Daniel Greenfield, a Shillman Journalism Fello...</td>\n",
       "      <td>0</td>\n",
       "    </tr>\n",
       "    <tr>\n",
       "      <th>1</th>\n",
       "      <td>10294</td>\n",
       "      <td>Watch The Exact Moment Paul Ryan Committed Pol...</td>\n",
       "      <td>Google Pinterest Digg Linkedin Reddit Stumbleu...</td>\n",
       "      <td>0</td>\n",
       "    </tr>\n",
       "    <tr>\n",
       "      <th>2</th>\n",
       "      <td>3608</td>\n",
       "      <td>Kerry to go to Paris in gesture of sympathy</td>\n",
       "      <td>U.S. Secretary of State John F. Kerry said Mon...</td>\n",
       "      <td>1</td>\n",
       "    </tr>\n",
       "    <tr>\n",
       "      <th>3</th>\n",
       "      <td>10142</td>\n",
       "      <td>Bernie supporters on Twitter erupt in anger ag...</td>\n",
       "      <td>— Kaydee King (@KaydeeKing) November 9, 2016 T...</td>\n",
       "      <td>0</td>\n",
       "    </tr>\n",
       "    <tr>\n",
       "      <th>4</th>\n",
       "      <td>875</td>\n",
       "      <td>The Battle of New York: Why This Primary Matters</td>\n",
       "      <td>It's primary day in New York and front-runners...</td>\n",
       "      <td>1</td>\n",
       "    </tr>\n",
       "  </tbody>\n",
       "</table>\n",
       "</div>"
      ],
      "text/plain": [
       "   Unnamed: 0                                              title  \\\n",
       "0        8476                       You Can Smell Hillary’s Fear   \n",
       "1       10294  Watch The Exact Moment Paul Ryan Committed Pol...   \n",
       "2        3608        Kerry to go to Paris in gesture of sympathy   \n",
       "3       10142  Bernie supporters on Twitter erupt in anger ag...   \n",
       "4         875   The Battle of New York: Why This Primary Matters   \n",
       "\n",
       "                                                text  label  \n",
       "0  Daniel Greenfield, a Shillman Journalism Fello...      0  \n",
       "1  Google Pinterest Digg Linkedin Reddit Stumbleu...      0  \n",
       "2  U.S. Secretary of State John F. Kerry said Mon...      1  \n",
       "3  — Kaydee King (@KaydeeKing) November 9, 2016 T...      0  \n",
       "4  It's primary day in New York and front-runners...      1  "
      ]
     },
     "execution_count": 3,
     "metadata": {},
     "output_type": "execute_result"
    }
   ],
   "source": [
    "df = df.replace({\"FAKE\":0,\"REAL\":1})\n",
    "df.head()"
   ]
  },
  {
   "cell_type": "markdown",
   "id": "6c43859e",
   "metadata": {},
   "source": [
    "### Tokenisation : Removing stop words and irrelevant characters"
   ]
  },
  {
   "cell_type": "code",
   "execution_count": 4,
   "id": "08d8d3e3",
   "metadata": {},
   "outputs": [
    {
     "data": {
      "text/html": [
       "<div>\n",
       "<style scoped>\n",
       "    .dataframe tbody tr th:only-of-type {\n",
       "        vertical-align: middle;\n",
       "    }\n",
       "\n",
       "    .dataframe tbody tr th {\n",
       "        vertical-align: top;\n",
       "    }\n",
       "\n",
       "    .dataframe thead th {\n",
       "        text-align: right;\n",
       "    }\n",
       "</style>\n",
       "<table border=\"1\" class=\"dataframe\">\n",
       "  <thead>\n",
       "    <tr style=\"text-align: right;\">\n",
       "      <th></th>\n",
       "      <th>Unnamed: 0</th>\n",
       "      <th>title</th>\n",
       "      <th>text</th>\n",
       "      <th>label</th>\n",
       "    </tr>\n",
       "  </thead>\n",
       "  <tbody>\n",
       "    <tr>\n",
       "      <th>0</th>\n",
       "      <td>8476</td>\n",
       "      <td>smell hillary fear</td>\n",
       "      <td>Daniel Greenfield, a Shillman Journalism Fello...</td>\n",
       "      <td>0</td>\n",
       "    </tr>\n",
       "    <tr>\n",
       "      <th>1</th>\n",
       "      <td>10294</td>\n",
       "      <td>watch exact moment paul ryan committed politic...</td>\n",
       "      <td>Google Pinterest Digg Linkedin Reddit Stumbleu...</td>\n",
       "      <td>0</td>\n",
       "    </tr>\n",
       "    <tr>\n",
       "      <th>2</th>\n",
       "      <td>3608</td>\n",
       "      <td>kerry go paris gesture sympathy</td>\n",
       "      <td>U.S. Secretary of State John F. Kerry said Mon...</td>\n",
       "      <td>1</td>\n",
       "    </tr>\n",
       "    <tr>\n",
       "      <th>3</th>\n",
       "      <td>10142</td>\n",
       "      <td>bernie supporter twitter erupt anger dnc tried...</td>\n",
       "      <td>— Kaydee King (@KaydeeKing) November 9, 2016 T...</td>\n",
       "      <td>0</td>\n",
       "    </tr>\n",
       "    <tr>\n",
       "      <th>4</th>\n",
       "      <td>875</td>\n",
       "      <td>battle new york primary matter</td>\n",
       "      <td>It's primary day in New York and front-runners...</td>\n",
       "      <td>1</td>\n",
       "    </tr>\n",
       "  </tbody>\n",
       "</table>\n",
       "</div>"
      ],
      "text/plain": [
       "   Unnamed: 0                                              title  \\\n",
       "0        8476                                 smell hillary fear   \n",
       "1       10294  watch exact moment paul ryan committed politic...   \n",
       "2        3608                    kerry go paris gesture sympathy   \n",
       "3       10142  bernie supporter twitter erupt anger dnc tried...   \n",
       "4         875                     battle new york primary matter   \n",
       "\n",
       "                                                text  label  \n",
       "0  Daniel Greenfield, a Shillman Journalism Fello...      0  \n",
       "1  Google Pinterest Digg Linkedin Reddit Stumbleu...      0  \n",
       "2  U.S. Secretary of State John F. Kerry said Mon...      1  \n",
       "3  — Kaydee King (@KaydeeKing) November 9, 2016 T...      0  \n",
       "4  It's primary day in New York and front-runners...      1  "
      ]
     },
     "execution_count": 4,
     "metadata": {},
     "output_type": "execute_result"
    }
   ],
   "source": [
    "import nltk\n",
    "import re\n",
    "from nltk.corpus import stopwords\n",
    "from nltk.stem import WordNetLemmatizer\n",
    "lemmatizer = WordNetLemmatizer()\n",
    "stopwords = stopwords.words('english')\n",
    "\n",
    "def clean_data(text):\n",
    "    text = text.lower() \n",
    "    text = re.sub('[^a-zA-Z]' , ' ' , text)\n",
    "    token = text.split() \n",
    "    token = [lemmatizer.lemmatize(word) for word in token if not word in stopwords]  \n",
    "    clean_news = ' '.join(token) \n",
    "    \n",
    "    return clean_news \n",
    "df['title'] = df['title'].apply(lambda x : clean_data(x))\n",
    "\n",
    "df.head()"
   ]
  },
  {
   "cell_type": "markdown",
   "id": "641e6c84",
   "metadata": {},
   "source": [
    "### Vectorisation : Changing String values into Computational Vector Equivalents"
   ]
  },
  {
   "cell_type": "code",
   "execution_count": 5,
   "id": "4f42f135",
   "metadata": {
    "scrolled": true
   },
   "outputs": [],
   "source": [
    "x_df = df['title']\n",
    "y_df = df['label']\n",
    "\n",
    "count_vectorizer = CountVectorizer()\n",
    "count_vectorizer.fit_transform(x_df)\n",
    "freq_term_matrix = count_vectorizer.transform(x_df)\n",
    "tfidf = TfidfTransformer(norm = \"l2\")\n",
    "tfidf.fit(freq_term_matrix)\n",
    "tf_idf_matrix = tfidf.fit_transform(freq_term_matrix)"
   ]
  },
  {
   "cell_type": "markdown",
   "id": "93b58a71",
   "metadata": {},
   "source": [
    "### Train_Test_Split : Splitting the data into Train and Test data in 80:20 Ratio"
   ]
  },
  {
   "cell_type": "code",
   "execution_count": 1,
   "id": "e463cefa",
   "metadata": {},
   "outputs": [
    {
     "ename": "NameError",
     "evalue": "name 'train_test_split' is not defined",
     "output_type": "error",
     "traceback": [
      "\u001b[1;31m---------------------------------------------------------------------------\u001b[0m",
      "\u001b[1;31mNameError\u001b[0m                                 Traceback (most recent call last)",
      "\u001b[1;32mC:\\Users\\LEESEU~1\\AppData\\Local\\Temp/ipykernel_12872/3771897921.py\u001b[0m in \u001b[0;36m<module>\u001b[1;34m\u001b[0m\n\u001b[1;32m----> 1\u001b[1;33m \u001b[0mx_train\u001b[0m\u001b[1;33m,\u001b[0m \u001b[0mx_test\u001b[0m\u001b[1;33m,\u001b[0m \u001b[0my_train\u001b[0m\u001b[1;33m,\u001b[0m \u001b[0my_test\u001b[0m \u001b[1;33m=\u001b[0m \u001b[0mtrain_test_split\u001b[0m\u001b[1;33m(\u001b[0m\u001b[0mtf_idf_matrix\u001b[0m\u001b[1;33m,\u001b[0m\u001b[0my_df\u001b[0m\u001b[1;33m,\u001b[0m \u001b[0mtest_size\u001b[0m \u001b[1;33m=\u001b[0m \u001b[1;36m0.2\u001b[0m\u001b[1;33m,\u001b[0m \u001b[0mrandom_state\u001b[0m\u001b[1;33m=\u001b[0m\u001b[1;36m0\u001b[0m\u001b[1;33m)\u001b[0m\u001b[1;33m\u001b[0m\u001b[1;33m\u001b[0m\u001b[0m\n\u001b[0m",
      "\u001b[1;31mNameError\u001b[0m: name 'train_test_split' is not defined"
     ]
    }
   ],
   "source": [
    "x_train, x_test, y_train, y_test = train_test_split(tf_idf_matrix,y_df, test_size = 0.2, random_state=0)"
   ]
  },
  {
   "cell_type": "markdown",
   "id": "8a9a6cf9",
   "metadata": {},
   "source": [
    "### Accuracy : Create a dataframe for each of the model's accuracy and a function to update the dataframe"
   ]
  },
  {
   "cell_type": "code",
   "execution_count": 78,
   "id": "be0a3b90",
   "metadata": {},
   "outputs": [],
   "source": [
    "accuracy_df = pd.DataFrame(columns = ['Model', 'Accuracy', ' True Pos', 'False Pos', 'True Neg', 'False Neg'])\n",
    "def update_accuracy(cm, acc, model):\n",
    "    df = [1,2,3,4,5,6]\n",
    "    FP = float(cm[0][1])\n",
    "    TP = float(cm[1][1])\n",
    "    FN = float(cm[1][0])\n",
    "    TN = float(cm[0][0])\n",
    "    TPR = (TP/(TP+FP))*100\n",
    "    FPR = 100 - TPR\n",
    "    TNR = (TN/(TN+FN))*100\n",
    "    FNR = 100 - TNR\n",
    "    df[0] = model\n",
    "    df[1] = round(float(acc*100),1)\n",
    "    df[2] = round(float(TPR),1)\n",
    "    df[3] = round(float(FPR),1)\n",
    "    df[4] = round(float(TNR),1)\n",
    "    df[5] = round(float(FNR),1)\n",
    "    return df"
   ]
  },
  {
   "cell_type": "markdown",
   "id": "d46da5af",
   "metadata": {},
   "source": [
    "# Run the 4 ML Models : Print the Confusion Matrix & Accuracy"
   ]
  },
  {
   "cell_type": "markdown",
   "id": "d1ceea30",
   "metadata": {},
   "source": [
    "### Model (1) : Logistic Regression Model"
   ]
  },
  {
   "cell_type": "code",
   "execution_count": 79,
   "id": "9db419ad",
   "metadata": {},
   "outputs": [
    {
     "data": {
      "image/png": "[encoded data removed]",
      "text/plain": [
       "<Figure size 648x648 with 2 Axes>"
      ]
     },
     "metadata": {
      "needs_background": "light"
     },
     "output_type": "display_data"
    }
   ],
   "source": [
    "from sklearn.linear_model import LogisticRegression\n",
    "logreg = LogisticRegression()\n",
    "logreg.fit(x_train, y_train)\n",
    "\n",
    "logreg_pred = logreg.predict(x_test)\n",
    "logreg_accuracy = accuracy_score(y_test,logreg_pred)\n",
    "logreg_cm = metrics.confusion_matrix(y_test, logreg_pred)\n",
    "\n",
    "plt.figure(figsize=(9,9))\n",
    "sns.heatmap(logreg_cm, annot=True, fmt=\".3f\", linewidths=.5, square = True, cmap = 'Blues_r')\n",
    "plt.ylabel('Actual label')\n",
    "plt.xlabel('Predicted label')\n",
    "all_sample_title = 'LogReg Accuracy Score: {0:.1f}%'.format(logreg_accuracy*100)\n",
    "plt.title(all_sample_title, size = 15)\n",
    "\n",
    "accuracy_list = update_accuracy(logreg_cm, logreg_accuracy, \"Log Reg\")\n",
    "accuracy_df.loc[len(accuracy_df)] = accuracy_list"
   ]
  },
  {
   "cell_type": "markdown",
   "id": "74ce1d63",
   "metadata": {},
   "source": [
    "### Model (2) : Naive-Bayes Prediction Model"
   ]
  },
  {
   "cell_type": "code",
   "execution_count": 80,
   "id": "f4ddec6e",
   "metadata": {},
   "outputs": [
    {
     "data": {
      "image/png": "[encoded data removed]",
      "text/plain": [
       "<Figure size 648x648 with 2 Axes>"
      ]
     },
     "metadata": {
      "needs_background": "light"
     },
     "output_type": "display_data"
    }
   ],
   "source": [
    "from sklearn.naive_bayes import MultinomialNB\n",
    "NB = MultinomialNB()\n",
    "NB.fit(x_train, y_train)\n",
    "\n",
    "nb_pred = NB.predict(x_test)\n",
    "nb_accuracy = accuracy_score(y_test,nb_pred)\n",
    "nb_cm = metrics.confusion_matrix(y_test, nb_pred)\n",
    "\n",
    "plt.figure(figsize=(9,9))\n",
    "sns.heatmap(nb_cm, annot=True, fmt=\".3f\", linewidths=.5, square = True, cmap = 'Blues_r')\n",
    "plt.ylabel('Actual label')\n",
    "plt.xlabel('Predicted label')\n",
    "all_sample_title = 'Naive-Bayes Accuracy Score: {0:.1f}%'.format(nb_accuracy*100)\n",
    "plt.title(all_sample_title, size = 15)\n",
    "\n",
    "accuracy_list = update_accuracy(nb_cm, nb_accuracy, \"Naive-Bayes\")\n",
    "accuracy_df.loc[len(accuracy_df)] = accuracy_list"
   ]
  },
  {
   "cell_type": "markdown",
   "id": "ab3a7ab8",
   "metadata": {},
   "source": [
    "### Model (3) : Decision Tree Classifier Model"
   ]
  },
  {
   "cell_type": "code",
   "execution_count": 81,
   "id": "401546e7",
   "metadata": {},
   "outputs": [
    {
     "data": {
      "image/png": "[encoded data removed]",
      "text/plain": [
       "<Figure size 648x648 with 2 Axes>"
      ]
     },
     "metadata": {
      "needs_background": "light"
     },
     "output_type": "display_data"
    }
   ],
   "source": [
    "from sklearn.tree import DecisionTreeClassifier\n",
    "clf = DecisionTreeClassifier()\n",
    "clf.fit(x_train, y_train)\n",
    "\n",
    "tree_pred = clf.predict(x_test)\n",
    "tree_accuracy = accuracy_score(y_test,tree_pred)\n",
    "tree_cm = metrics.confusion_matrix(y_test, tree_pred)\n",
    "\n",
    "plt.figure(figsize=(9,9))\n",
    "sns.heatmap(tree_cm, annot=True, fmt=\".3f\", linewidths=.5, square = True, cmap = 'Blues_r')\n",
    "plt.ylabel('Actual label')\n",
    "plt.xlabel('Predicted label')\n",
    "all_sample_title = 'Decision Tree Accuracy Score: {0:.1f}%'.format(tree_accuracy*100)\n",
    "plt.title(all_sample_title, size = 15)\n",
    "\n",
    "accuracy_list = update_accuracy(tree_cm, tree_accuracy, \"Decision Tree\")\n",
    "accuracy_df.loc[len(accuracy_df)] = accuracy_list"
   ]
  },
  {
   "cell_type": "markdown",
   "id": "7e6a5087",
   "metadata": {},
   "source": [
    "### Model (4) : Passive-Aggressive Classifier Model"
   ]
  },
  {
   "cell_type": "code",
   "execution_count": 82,
   "id": "1ae6442c",
   "metadata": {
    "scrolled": false
   },
   "outputs": [
    {
     "data": {
      "image/png": "[encoded data removed]",
      "text/plain": [
       "<Figure size 648x648 with 2 Axes>"
      ]
     },
     "metadata": {
      "needs_background": "light"
     },
     "output_type": "display_data"
    }
   ],
   "source": [
    "from sklearn.linear_model import PassiveAggressiveClassifier\n",
    "pag = PassiveAggressiveClassifier(max_iter=50)\n",
    "pag.fit(x_train,y_train)\n",
    "\n",
    "pag_pred = pag.predict(x_test)\n",
    "pag_accuracy = accuracy_score(y_test,pag_pred)\n",
    "pag_cm = metrics.confusion_matrix(y_test, pag_pred)\n",
    "\n",
    "plt.figure(figsize=(9,9))\n",
    "sns.heatmap(pag_cm, annot=True, fmt=\".3f\", linewidths=.5, square = True, cmap = 'Blues_r')\n",
    "plt.ylabel('Actual label')\n",
    "plt.xlabel('Predicted label')\n",
    "all_sample_title = 'Pas-Agg Accuracy Score: {0:.1f}%'.format(float(pag_accuracy*100))\n",
    "plt.title(all_sample_title, size = 15)\n",
    "\n",
    "accuracy_list = update_accuracy(pag_cm, pag_accuracy, \"Pas-Agg\")\n",
    "accuracy_df.loc[len(accuracy_df)] = accuracy_list"
   ]
  },
  {
   "cell_type": "markdown",
   "id": "0d73c0d4",
   "metadata": {},
   "source": [
    "### Model (5) : Support Vector Machine Classifier Model"
   ]
  },
  {
   "cell_type": "code",
   "execution_count": 83,
   "id": "3382362a",
   "metadata": {},
   "outputs": [
    {
     "data": {
      "image/png": "[encoded data removed]",
      "text/plain": [
       "<Figure size 648x648 with 2 Axes>"
      ]
     },
     "metadata": {
      "needs_background": "light"
     },
     "output_type": "display_data"
    }
   ],
   "source": [
    "from sklearn import svm\n",
    "svmclf = svm.SVC(kernel='linear')\n",
    "svmclf.fit(x_train,y_train)\n",
    "\n",
    "svm_pred = svmclf.predict(x_test)\n",
    "svm_accuracy = accuracy_score(y_test,svm_pred)\n",
    "svm_cm = metrics.confusion_matrix(y_test, svm_pred)\n",
    "\n",
    "plt.figure(figsize=(9,9))\n",
    "sns.heatmap(svm_cm, annot=True, fmt=\".3f\", linewidths=.5, square = True, cmap = 'Blues_r')\n",
    "plt.ylabel('Actual label')\n",
    "plt.xlabel('Predicted label')\n",
    "all_sample_title = 'SVM Accuracy Score: {0:.1f}%'.format(float(svm_accuracy*100))\n",
    "plt.title(all_sample_title, size = 15)\n",
    "\n",
    "accuracy_list = update_accuracy(svm_cm, svm_accuracy, \"SVM\")\n",
    "accuracy_df.loc[len(accuracy_df)] = accuracy_list"
   ]
  },
  {
   "cell_type": "markdown",
   "id": "ce010718",
   "metadata": {},
   "source": [
    "### Model (6) : Ensemble"
   ]
  },
  {
   "cell_type": "code",
   "execution_count": 84,
   "id": "214496d7",
   "metadata": {},
   "outputs": [
    {
     "data": {
      "image/png": "[encoded data removed]",
      "text/plain": [
       "<Figure size 648x648 with 2 Axes>"
      ]
     },
     "metadata": {
      "needs_background": "light"
     },
     "output_type": "display_data"
    }
   ],
   "source": [
    "ensemble_pred = [None] * len(pag_pred)\n",
    "\n",
    "for i in range(0,len(pag_pred)):\n",
    "    total = logreg_pred[i] + nb_pred[i] + tree_pred[i] + pag_pred[i] + svm_pred[i]\n",
    "    if total >= 3:\n",
    "        ensemble_pred[i] = 1\n",
    "    else:\n",
    "        ensemble_pred[i] = 0\n",
    "\n",
    "ensemble_pred = np.array(ensemble_pred)\n",
    "ensemble_accuracy = accuracy_score(y_test,ensemble_pred)\n",
    "ensemble_cm = metrics.confusion_matrix(y_test, ensemble_pred)\n",
    "\n",
    "plt.figure(figsize=(9,9))\n",
    "sns.heatmap(ensemble_cm, annot=True, fmt=\".3f\", linewidths=.5, square = True, cmap = 'Blues_r')\n",
    "plt.ylabel('Actual label')\n",
    "plt.xlabel('Predicted label')\n",
    "all_sample_title = 'Ensemble Accuracy Score: {0:.1f}%'.format(float(ensemble_accuracy*100))\n",
    "plt.title(all_sample_title, size = 15)\n",
    "\n",
    "accuracy_list = update_accuracy(ensemble_cm, ensemble_accuracy, \"Ensemble\")\n",
    "accuracy_df.loc[len(accuracy_df)] = accuracy_list"
   ]
  },
  {
   "cell_type": "markdown",
   "id": "4eec896e",
   "metadata": {},
   "source": [
    "### Assessing Accuracy : Print the Accuracy values of each of the 4 models in a dataframe "
   ]
  },
  {
   "cell_type": "code",
   "execution_count": 85,
   "id": "4e75b4a8",
   "metadata": {},
   "outputs": [
    {
     "data": {
      "text/html": [
       "<div>\n",
       "<style scoped>\n",
       "    .dataframe tbody tr th:only-of-type {\n",
       "        vertical-align: middle;\n",
       "    }\n",
       "\n",
       "    .dataframe tbody tr th {\n",
       "        vertical-align: top;\n",
       "    }\n",
       "\n",
       "    .dataframe thead th {\n",
       "        text-align: right;\n",
       "    }\n",
       "</style>\n",
       "<table border=\"1\" class=\"dataframe\">\n",
       "  <thead>\n",
       "    <tr style=\"text-align: right;\">\n",
       "      <th></th>\n",
       "      <th>Model</th>\n",
       "      <th>Accuracy</th>\n",
       "      <th>True Pos</th>\n",
       "      <th>False Pos</th>\n",
       "      <th>True Neg</th>\n",
       "      <th>False Neg</th>\n",
       "    </tr>\n",
       "  </thead>\n",
       "  <tbody>\n",
       "    <tr>\n",
       "      <th>0</th>\n",
       "      <td>Log Reg</td>\n",
       "      <td>82.6</td>\n",
       "      <td>85.4</td>\n",
       "      <td>14.6</td>\n",
       "      <td>79.9</td>\n",
       "      <td>20.1</td>\n",
       "    </tr>\n",
       "    <tr>\n",
       "      <th>1</th>\n",
       "      <td>Naive-Bayes</td>\n",
       "      <td>81.3</td>\n",
       "      <td>79.4</td>\n",
       "      <td>20.6</td>\n",
       "      <td>83.6</td>\n",
       "      <td>16.4</td>\n",
       "    </tr>\n",
       "    <tr>\n",
       "      <th>2</th>\n",
       "      <td>Decision Tree</td>\n",
       "      <td>77.1</td>\n",
       "      <td>77.3</td>\n",
       "      <td>22.7</td>\n",
       "      <td>76.9</td>\n",
       "      <td>23.1</td>\n",
       "    </tr>\n",
       "    <tr>\n",
       "      <th>3</th>\n",
       "      <td>Pas-Agg</td>\n",
       "      <td>78.9</td>\n",
       "      <td>79.6</td>\n",
       "      <td>20.4</td>\n",
       "      <td>78.2</td>\n",
       "      <td>21.8</td>\n",
       "    </tr>\n",
       "    <tr>\n",
       "      <th>4</th>\n",
       "      <td>SVM</td>\n",
       "      <td>82.9</td>\n",
       "      <td>84.9</td>\n",
       "      <td>15.1</td>\n",
       "      <td>80.9</td>\n",
       "      <td>19.1</td>\n",
       "    </tr>\n",
       "    <tr>\n",
       "      <th>5</th>\n",
       "      <td>Ensemble</td>\n",
       "      <td>83.5</td>\n",
       "      <td>85.0</td>\n",
       "      <td>15.0</td>\n",
       "      <td>82.0</td>\n",
       "      <td>18.0</td>\n",
       "    </tr>\n",
       "  </tbody>\n",
       "</table>\n",
       "</div>"
      ],
      "text/plain": [
       "           Model  Accuracy   True Pos  False Pos  True Neg  False Neg\n",
       "0        Log Reg      82.6       85.4       14.6      79.9       20.1\n",
       "1    Naive-Bayes      81.3       79.4       20.6      83.6       16.4\n",
       "2  Decision Tree      77.1       77.3       22.7      76.9       23.1\n",
       "3        Pas-Agg      78.9       79.6       20.4      78.2       21.8\n",
       "4            SVM      82.9       84.9       15.1      80.9       19.1\n",
       "5       Ensemble      83.5       85.0       15.0      82.0       18.0"
      ]
     },
     "execution_count": 85,
     "metadata": {},
     "output_type": "execute_result"
    }
   ],
   "source": [
    "accuracy_df"
   ]
  }
 ],
 "metadata": {
  "kernelspec": {
   "display_name": "Python 3 (ipykernel)",
   "language": "python",
   "name": "python3"
  },
  "language_info": {
   "codemirror_mode": {
    "name": "ipython",
    "version": 3
   },
   "file_extension": ".py",
   "mimetype": "text/x-python",
   "name": "python",
   "nbconvert_exporter": "python",
   "pygments_lexer": "ipython3",
   "version": "3.9.7"
  }
 },
 "nbformat": 4,
 "nbformat_minor": 5
}
